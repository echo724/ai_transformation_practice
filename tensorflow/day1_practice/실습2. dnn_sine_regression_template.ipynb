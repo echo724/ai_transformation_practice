{
 "cells": [
  {
   "cell_type": "markdown",
   "metadata": {
    "colab_type": "text",
    "id": "1lGyQ3em6O3f"
   },
   "source": [
    "## 싸인 함수 회귀분석 (Sine Regression)"
   ]
  },
  {
   "cell_type": "markdown",
   "metadata": {
    "colab_type": "text",
    "id": "IWEGclBY6O3g"
   },
   "source": [
    "#### Package Import"
   ]
  },
  {
   "cell_type": "code",
   "execution_count": 7,
   "metadata": {
    "colab": {},
    "colab_type": "code",
    "id": "n2GXXH-S6O3h"
   },
   "outputs": [
    {
     "name": "stdout",
     "output_type": "stream",
     "text": [
      "2.1.0\n"
     ]
    }
   ],
   "source": [
    "import tensorflow as tf\n",
    "import numpy as np\n",
    "import matplotlib.pyplot as plt\n",
    "\n",
    "print(tf.__version__) \n",
    "with tf.device(\"GPU:0\"):\n",
    "    x = tf.Variable(tf.random.normal(((3,4))))"
   ]
  },
  {
   "cell_type": "markdown",
   "metadata": {
    "colab_type": "text",
    "id": "RmthTKFt6O3k"
   },
   "source": [
    "## 데이터 생성"
   ]
  },
  {
   "cell_type": "code",
   "execution_count": 0,
   "metadata": {
    "colab": {},
    "colab_type": "code",
    "id": "sEfQCSZk6O3l"
   },
   "outputs": [],
   "source": [
    "# generate the data\n",
    "inputs = np.linspace(-2*np.pi, 2*np.pi, 10000)[:, None]\n",
    "outputs = np.sin(inputs) + 0.05 * np.random.normal(size=[len(inputs),1])\n",
    "\n",
    "plt.scatter(inputs[:, 0], outputs[:, 0], s=0.1, color='k', marker='o')"
   ]
  },
  {
   "cell_type": "markdown",
   "metadata": {
    "colab_type": "text",
    "id": "nGN89Vn86O3n"
   },
   "source": [
    "## 모델 정의\n",
    "Q. 모델 생성 코드를 작성하시오.\n",
    "1. __init()__ 함수 : 가중치와 편향의 변수 선언\n",
    "1. __call()__ 함수 : 각 계층 별로 가중 합산과 활성 함수 실행 코드를 작성하시오."
   ]
  },
  {
   "cell_type": "code",
   "execution_count": 0,
   "metadata": {
    "colab": {},
    "colab_type": "code",
    "id": "LPVdCKsZ6O3o"
   },
   "outputs": [],
   "source": [
    "class Model(tf.Module):\n",
    "    def __init__(self):\n",
    "        # create variables\n",
    "        initializer = tf.initializers.GlorotUniform()\n",
    "        W0 = tf.Variable(initializer(shape=[1, 20]), dtype=tf.float32, name='W0')\n",
    "        W1 = # your code\n",
    "        W2 = # your code\n",
    "\n",
    "        b0 = # your code\n",
    "        b1 = # your code\n",
    "        b2 = # your code\n",
    "\n",
    "        self.weights = [W0, W1, W2]\n",
    "        self.biases = [b0, b1, b2]\n",
    "        self.activations = [tf.nn.relu, tf.nn.relu, None]\n",
    "    \n",
    "    def __call__(self, input):\n",
    "        x = input\n",
    "        for W, b, activation in zip(self.weights, self.biases, self.activations):\n",
    "            # affine transformation (Hint : tf. matmul를 이용해서 작성)\n",
    "            x = # your code\n",
    "            # activation\n",
    "            if activation is not None:\n",
    "                x = # your code\n",
    "        return x"
   ]
  },
  {
   "cell_type": "markdown",
   "metadata": {
    "colab_type": "text",
    "id": "bles4qfC6O3s"
   },
   "source": [
    "## 모델 훈련\n",
    "Q. GradientTape 방식으로 훈련 코드를 작성하시오."
   ]
  },
  {
   "cell_type": "code",
   "execution_count": 0,
   "metadata": {
    "colab": {},
    "colab_type": "code",
    "id": "lTFEo9Mw6O3s",
    "scrolled": true
   },
   "outputs": [],
   "source": [
    "model = Model()\n",
    "optimizer = tf.optimizers.Adam() # create optimizer\n",
    "\n",
    "# run training\n",
    "batch_size = 32\n",
    "for training_step in range(10000):\n",
    "    # get a random subset of the training data\n",
    "    indices = np.random.randint(low=0, high=len(inputs), size=batch_size)\n",
    "    input_batch = tf.Variable(inputs[indices], dtype=tf.float32, name='input')\n",
    "    output_batch = tf.Variable(outputs[indices], dtype=tf.float32, name='output')\n",
    "    \n",
    "    with tf.GradientTape() as tape:\n",
    "        output_pred = model(input_batch)\n",
    "        # mean squared loss (Hint : tf.reduce_mean와 tf.square를 이용해서 작성)\n",
    "        mse = # your code\n",
    "        # gradient 계산 (Hint : tape.gradient() 사용)\n",
    "        grads  = # your code\n",
    "        # parameter update (Hint : optimizer.apply_gradients() 사용)\n",
    "        optimizer. # your code\n",
    "        \n",
    "    if training_step % 1000 == 0:\n",
    "        print('{0:04d} mse: {1:.3f}'.format(training_step, mse))"
   ]
  },
  {
   "cell_type": "markdown",
   "metadata": {
    "colab_type": "text",
    "id": "e3yeYmyG6O3x"
   },
   "source": [
    "## 테스트"
   ]
  },
  {
   "cell_type": "code",
   "execution_count": 0,
   "metadata": {
    "colab": {},
    "colab_type": "code",
    "id": "_yvSNyj-6O3x"
   },
   "outputs": [],
   "source": [
    "test_input = tf.Variable(inputs, dtype=tf.float32, name='input')\n",
    "test_output = tf.Variable(outputs, dtype=tf.float32, name='Output')\n",
    "test_output_pred = model(test_input)\n",
    "\n",
    "plt.scatter(inputs[:, 0], test_output[:, 0], c='k', marker='o', s=0.1)\n",
    "plt.scatter(inputs[:, 0], test_output_pred[:, 0], c='r', marker='o', s=0.1)"
   ]
  }
 ],
 "metadata": {
  "colab": {
   "collapsed_sections": [],
   "name": "실습2. dnn_sine_regression_template.ipynb",
   "provenance": []
  },
  "kernelspec": {
   "display_name": "Environment (conda_tensorflow2_p36)",
   "language": "python",
   "name": "conda_tensorflow2_p36"
  },
  "language_info": {
   "codemirror_mode": {
    "name": "ipython",
    "version": 3
   },
   "file_extension": ".py",
   "mimetype": "text/x-python",
   "name": "python",
   "nbconvert_exporter": "python",
   "pygments_lexer": "ipython3",
   "version": "3.6.10"
  }
 },
 "nbformat": 4,
 "nbformat_minor": 1
}
