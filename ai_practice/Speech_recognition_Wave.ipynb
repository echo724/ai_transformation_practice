{
 "cells": [
  {
   "cell_type": "markdown",
   "metadata": {
    "colab_type": "text",
    "id": "s0hOgPd6phMx"
   },
   "source": [
    "# Simple speech recognition\n",
    "\n",
    "Audio 데이터를 다뤄서 학습하는 방법을 배워보도록 합시다.\n",
    "머신러닝 작업과정은 아래와 같습니다.\n",
    "\n",
    "1. Examine and understand data\n",
    "2. Build an input pipeline\n",
    "3. Build the model\n",
    "4. Train the model\n",
    "5. Test the model\n",
    "6. Improve the model and repeat the process\n",
    "\n",
    "* 모델 완성 후 평가 지표에 따라서 모델을 평가해 봅시다.\n",
    "* tensorflow 2.1 버전에 최적화되어있습니다."
   ]
  },
  {
   "cell_type": "markdown",
   "metadata": {
    "colab_type": "text",
    "id": "ZglPODWg4J9S"
   },
   "source": [
    "## Project 설명\n",
    "### Task\n",
    "* 1초 길이의 오디오 음성데이터를 이용해 단어를 분류하는 것이 목표입니다.\n",
    "* 주어진 데이터를 이용해 딥러닝 트레이닝 과정을 구현해 보는것이 목표입니다.\n",
    "* This code is borrowed from [Kaggle/TensorFlow Speech Recognition Challenge](https://www.kaggle.com/c/tensorflow-speech-recognition-challenge).\n",
    "* This is version 0.01 of the data set containing 64,727 audio files, released on August 3rd 2017.\n",
    "- **1초 길이의 오디오 음성 데이터 -> sample rate = 8000 ( Per second ) ( Img의 픽셀과 비슷 )**\n",
    "- **1Batch = 8000**\n",
    "- **shape = (32,8000,1)**\n",
    "\n",
    "\n",
    "### Baseline\n",
    "* 기본적으로 사용하는 Convulution layers를 구성해 사용해보자.\n",
    "    * ex) Conv - Conv - pooling - FC layers\n",
    "* 오버피팅을 방지하기 위한 다양한 방법들을 사용해보자.\n",
    "* Training\n",
    "    * tf.data.dataset과 model.fit()을 사용\n",
    "    - **data.dataset -> 특정 데이터 형식 상관 X**\n",
    "* Evaluation\n",
    "    * 모델의 정확도와 크기를 이용해 점수를 제공하는 메트릭으로 평가해보자."
   ]
  },
  {
   "cell_type": "markdown",
   "metadata": {
    "colab_type": "text",
    "id": "ErNtfQZV2J51"
   },
   "source": [
    "### Setting tensorflow version"
   ]
  },
  {
   "cell_type": "code",
   "execution_count": 1,
   "metadata": {
    "colab": {},
    "colab_type": "code",
    "id": "LVezAn-epit5"
   },
   "outputs": [],
   "source": [
    "#!pip install tensorflow-gpu==2.1"
   ]
  },
  {
   "cell_type": "markdown",
   "metadata": {
    "colab_type": "text",
    "id": "1I3lhvzF4rKF"
   },
   "source": [
    "### Import packages\n",
    "\n",
    "* 우리가 사용할 packages 를 import 하는 부분 입니다.\n",
    "* 필요에 따른 packages를 선언합니다."
   ]
  },
  {
   "cell_type": "code",
   "execution_count": 2,
   "metadata": {},
   "outputs": [
    {
     "data": {
      "text/plain": [
       "<module 'posixpath' from '/home/ec2-user/anaconda3/envs/tensorflow2_p36/lib/python3.6/posixpath.py'>"
      ]
     },
     "execution_count": 2,
     "metadata": {},
     "output_type": "execute_result"
    }
   ],
   "source": [
    "import os\n",
    "os.path"
   ]
  },
  {
   "cell_type": "code",
   "execution_count": 3,
   "metadata": {
    "colab": {},
    "colab_type": "code",
    "id": "GVi6R2-_phMz"
   },
   "outputs": [
    {
     "data": {
      "text/plain": [
       "'2.1.0'"
      ]
     },
     "execution_count": 3,
     "metadata": {},
     "output_type": "execute_result"
    }
   ],
   "source": [
    "import tensorflow as tf\n",
    "from tensorflow.keras import layers\n",
    "import numpy as np\n",
    "import pandas as pd\n",
    "from sklearn.model_selection import train_test_split\n",
    "#sklearn - 머신러닝을 위한 패키지\n",
    "#dataset을 다뤄줌\n",
    "import librosa\n",
    "#audio data를 다룰때 필수적\n",
    "import librosa.display\n",
    "import matplotlib.pyplot as plt\n",
    "\n",
    "import os\n",
    "from os.path import isdir, join\n",
    "\n",
    "import random\n",
    "import copy\n",
    "\n",
    "tf.__version__\n"
   ]
  },
  {
   "cell_type": "markdown",
   "metadata": {
    "colab_type": "text",
    "id": "e8pXqNOekZf3"
   },
   "source": [
    "## Import modules\n",
    "\n",
    "### Import colab modules for Google Colab (if necessary)"
   ]
  },
  {
   "cell_type": "markdown",
   "metadata": {
    "colab_type": "text",
    "id": "Etgn2vm3phM4"
   },
   "source": [
    "### Load dataset"
   ]
  },
  {
   "cell_type": "code",
   "execution_count": 4,
   "metadata": {
    "colab": {},
    "colab_type": "code",
    "id": "wBxkj9UsphM5"
   },
   "outputs": [],
   "source": [
    "speech_data = np.load(\"content/datasets/speech_wav_8000.npz\")"
   ]
  },
  {
   "cell_type": "code",
   "execution_count": 5,
   "metadata": {
    "colab": {},
    "colab_type": "code",
    "id": "qTWAyVp9pDLr"
   },
   "outputs": [
    {
     "data": {
      "text/plain": [
       "(50620, 8000)"
      ]
     },
     "execution_count": 5,
     "metadata": {},
     "output_type": "execute_result"
    }
   ],
   "source": [
    "speech_data[\"wav_vals\"].shape"
   ]
  },
  {
   "cell_type": "code",
   "execution_count": 6,
   "metadata": {
    "colab": {},
    "colab_type": "code",
    "id": "n97UcgOWcu0i"
   },
   "outputs": [
    {
     "data": {
      "text/plain": [
       "(8000,)"
      ]
     },
     "execution_count": 6,
     "metadata": {},
     "output_type": "execute_result"
    }
   ],
   "source": [
    "speech_data[\"wav_vals\"][0].shape"
   ]
  },
  {
   "cell_type": "code",
   "execution_count": 7,
   "metadata": {
    "colab": {},
    "colab_type": "code",
    "id": "GWLwd7iLdHYR"
   },
   "outputs": [
    {
     "data": {
      "text/html": [
       "\n",
       "                <audio  controls=\"controls\" >\n",
       "                    <source src=\"data:audio/wav;base64,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\" type=\"audio/wav\" />\n",
       "                    Your browser does not support the audio element.\n",
       "                </audio>\n",
       "              "
      ],
      "text/plain": [
       "<IPython.lib.display.Audio object>"
      ]
     },
     "execution_count": 7,
     "metadata": {},
     "output_type": "execute_result"
    }
   ],
   "source": [
    "import IPython.display as ipd\n",
    "\n",
    "rate = 8000\n",
    "data = speech_data[\"wav_vals\"][25]\n",
    "\n",
    "ipd.Audio(data, rate=rate) # load a NumPy array"
   ]
  },
  {
   "cell_type": "code",
   "execution_count": 8,
   "metadata": {
    "colab": {},
    "colab_type": "code",
    "id": "q4SvE8JSpQ8m"
   },
   "outputs": [
    {
     "data": {
      "text/plain": [
       "array([['down'],\n",
       "       ['down'],\n",
       "       ['down'],\n",
       "       ...,\n",
       "       ['silence'],\n",
       "       ['silence'],\n",
       "       ['silence']], dtype='<U7')"
      ]
     },
     "execution_count": 8,
     "metadata": {},
     "output_type": "execute_result"
    }
   ],
   "source": [
    "speech_data[\"label_vals\"]"
   ]
  },
  {
   "cell_type": "markdown",
   "metadata": {
    "colab_type": "text",
    "id": "QWAbi_w0phM9"
   },
   "source": [
    "### Model dataset setting\n",
    "* 변환된 데이터를 이용해서 학습에 활용할 데이터셋을 설정한다."
   ]
  },
  {
   "cell_type": "code",
   "execution_count": 9,
   "metadata": {
    "colab": {},
    "colab_type": "code",
    "id": "Kl5pQr-WphM-"
   },
   "outputs": [
    {
     "name": "stdout",
     "output_type": "stream",
     "text": [
      "(45558, 8000, 1)\n",
      "(5062, 8000, 1)\n",
      "(45558, 1)\n",
      "(5062, 1)\n"
     ]
    }
   ],
   "source": [
    "sr = 8000\n",
    "train_wav, test_wav, train_label, test_label = train_test_split(speech_data[\"wav_vals\"], \n",
    "                                                                speech_data[\"label_vals\"], \n",
    "                                                                test_size=0.1,#data-test 비율\n",
    "                                                                shuffle=True)\n",
    "\n",
    "#convolution에 맞는 데이터 (-1:any,sr:유지,1) - 모양 변경에 필요 (50000,8000,1)\n",
    "train_wav = train_wav.reshape(-1,sr,1)\n",
    "test_wav = test_wav.reshape(-1,sr,1)\n",
    "\n",
    "print(train_wav.shape)\n",
    "print(test_wav.shape)\n",
    "print(train_label.shape)\n",
    "print(test_label.shape)"
   ]
  },
  {
   "cell_type": "code",
   "execution_count": 10,
   "metadata": {
    "colab": {},
    "colab_type": "code",
    "id": "jVsnK_FaphNC"
   },
   "outputs": [],
   "source": [
    "#Target\n",
    "target_list = ['yes', 'no', 'up', 'down', 'left', 'right', 'on', 'off', 'stop', 'go']\n",
    "label_value = target_list\n",
    "label_value.append('unknown')\n",
    "label_value.append('silence')\n",
    "\n",
    "#key - list, value - number\n",
    "new_label_value = dict()\n",
    "for i, l in enumerate(label_value):\n",
    "    new_label_value[l] = i\n",
    "label_value = new_label_value"
   ]
  },
  {
   "cell_type": "code",
   "execution_count": 11,
   "metadata": {
    "colab": {},
    "colab_type": "code",
    "id": "E5EjgZLTxP2c"
   },
   "outputs": [
    {
     "data": {
      "text/plain": [
       "{'yes': 0,\n",
       " 'no': 1,\n",
       " 'up': 2,\n",
       " 'down': 3,\n",
       " 'left': 4,\n",
       " 'right': 5,\n",
       " 'on': 6,\n",
       " 'off': 7,\n",
       " 'stop': 8,\n",
       " 'go': 9,\n",
       " 'unknown': 10,\n",
       " 'silence': 11}"
      ]
     },
     "execution_count": 11,
     "metadata": {},
     "output_type": "execute_result"
    }
   ],
   "source": [
    "label_value"
   ]
  },
  {
   "cell_type": "code",
   "execution_count": 12,
   "metadata": {
    "colab": {},
    "colab_type": "code",
    "id": "L0aAi4F_phNF"
   },
   "outputs": [],
   "source": [
    "temp = []\n",
    "for v in train_label:\n",
    "    temp.append(label_value[v[0]])\n",
    "train_label = np.array(temp)\n",
    "\n",
    "temp = []\n",
    "for v in test_label:\n",
    "    temp.append(label_value[v[0]])\n",
    "test_label = np.array(temp)"
   ]
  },
  {
   "cell_type": "code",
   "execution_count": 13,
   "metadata": {
    "colab": {},
    "colab_type": "code",
    "id": "57Pwj0sLphNI"
   },
   "outputs": [
    {
     "name": "stdout",
     "output_type": "stream",
     "text": [
      "Train_Wav Demension : (45558, 8000, 1)\n",
      "Train_Label Demension : (45558,)\n",
      "Test_Wav Demension : (5062, 8000, 1)\n",
      "Test_Label Demension : (5062,)\n",
      "Number Of Labels : 12\n"
     ]
    }
   ],
   "source": [
    "print('Train_Wav Demension : ' + str(np.shape(train_wav)))\n",
    "print('Train_Label Demension : ' + str(np.shape(train_label)))\n",
    "print('Test_Wav Demension : ' + str(np.shape(test_wav)))\n",
    "print('Test_Label Demension : ' + str(np.shape(test_label)))\n",
    "print('Number Of Labels : ' + str(len(label_value)))"
   ]
  },
  {
   "cell_type": "markdown",
   "metadata": {
    "colab_type": "text",
    "id": "oqZX6VQr2sZS"
   },
   "source": [
    "### Hyper-parameters setting"
   ]
  },
  {
   "cell_type": "code",
   "execution_count": 14,
   "metadata": {
    "colab": {},
    "colab_type": "code",
    "id": "UeeGM0Mi2v7i"
   },
   "outputs": [
    {
     "data": {
      "text/plain": [
       "True"
      ]
     },
     "execution_count": 14,
     "metadata": {},
     "output_type": "execute_result"
    }
   ],
   "source": [
    "batch_size = 100\n",
    "max_epochs = 20\n",
    "\n",
    "# the save point\n",
    "checkpoint_dir ='./train_ckpt/wave/exp5'\n",
    "if not os.path.isdir(checkpoint_dir):\n",
    "    os.makedirs(checkpoint_dir)\n",
    "os.path.isdir(checkpoint_dir)"
   ]
  },
  {
   "cell_type": "code",
   "execution_count": 15,
   "metadata": {
    "colab": {},
    "colab_type": "code",
    "id": "zA4D6kmyphNM"
   },
   "outputs": [],
   "source": [
    "# train_wav, train_label\n",
    "def one_hot_label(wav, label):\n",
    "    label = tf.one_hot(label, depth=12)\n",
    "    return wav, label"
   ]
  },
  {
   "cell_type": "code",
   "execution_count": 16,
   "metadata": {
    "colab": {},
    "colab_type": "code",
    "id": "50FegMTNphNQ"
   },
   "outputs": [
    {
     "name": "stdout",
     "output_type": "stream",
     "text": [
      "<BatchDataset shapes: ((None, 8000, 1), (None, 12)), types: (tf.float32, tf.float32)>\n"
     ]
    }
   ],
   "source": [
    "# for train\n",
    "train_dataset = tf.data.Dataset.from_tensor_slices((train_wav, train_label)) # wave랑 label return\n",
    "train_dataset = train_dataset.map(one_hot_label) # .map(one_hot_label())\n",
    "\n",
    "#repeat을 넣어야 keras.model.fit과 사용 가능(gradient Tape과 사용할때는 필요 없음)\n",
    "train_dataset = train_dataset.repeat().batch(batch_size=batch_size)\n",
    "print(train_dataset)"
   ]
  },
  {
   "cell_type": "code",
   "execution_count": 17,
   "metadata": {
    "colab": {},
    "colab_type": "code",
    "id": "krautHsB1SlA"
   },
   "outputs": [
    {
     "name": "stdout",
     "output_type": "stream",
     "text": [
      "<BatchDataset shapes: ((None, 8000, 1), (None, 12)), types: (tf.float32, tf.float32)>\n"
     ]
    }
   ],
   "source": [
    "# for test\n",
    "test_dataset = tf.data.Dataset.from_tensor_slices((train_wav, train_label))\n",
    "test_dataset = test_dataset.map(one_hot_label)\n",
    "test_dataset = test_dataset.batch(batch_size=batch_size)\n",
    "print(test_dataset)"
   ]
  },
  {
   "cell_type": "markdown",
   "metadata": {
    "colab_type": "text",
    "id": "HVlQ7tGRkZwc"
   },
   "source": [
    "### Model 구현\n",
    "* Wave 파일 데이터를 이용해 학습을 할 수 있는 모델을 구현합니다."
   ]
  },
  {
   "cell_type": "code",
   "execution_count": 18,
   "metadata": {
    "colab": {},
    "colab_type": "code",
    "id": "imYxkRlyphNT"
   },
   "outputs": [],
   "source": [
    "input_tensor = layers.Input(shape=(sr, 1))\n",
    "\n",
    "x = layers.Conv1D(64,9,padding=\"same\",kernel_initializer='he_normal')(input_tensor)\n",
    "x = layers.BatchNormalization()(x)\n",
    "x = layers.Activation('relu')(x)\n",
    "# x = layers.MaxPooling1D()(x)\n",
    "x = layers.Conv1D(64,9,padding=\"same\",kernel_initializer='he_normal')(x)\n",
    "x = layers.BatchNormalization()(x)\n",
    "x = layers.Activation('relu')(x)\n",
    "x = layers.MaxPooling1D()(x)\n",
    "x = layers.Conv1D(128,9,padding=\"same\",kernel_initializer='he_normal')(x)\n",
    "x = layers.BatchNormalization()(x)\n",
    "x = layers.Activation('relu')(x)\n",
    "x = layers.MaxPooling1D()(x)\n",
    "# x = layers.Conv1D(512,9,padding=\"same\",kernel_initializer='he_normal')(x)\n",
    "# x = layers.BatchNormalization()(x)\n",
    "# x = layers.Activation('relu')(x)\n",
    "# x = layers.MaxPooling1D()(x)\n",
    "x = layers.Flatten()(x)\n",
    "x = layers.Dense(128,activation='relu')(x)\n",
    "x = layers.Dense(12,activation='softmax')(x)\n",
    "\n",
    "model = tf.keras.Model(inputs=input_tensor, outputs=x)"
   ]
  },
  {
   "cell_type": "code",
   "execution_count": 19,
   "metadata": {
    "colab": {},
    "colab_type": "code",
    "id": "igiurfQXphNY"
   },
   "outputs": [],
   "source": [
    "optimizer=tf.keras.optimizers.Adam(learning_rate=0.002)\n",
    "model.compile(loss=tf.keras.losses.categorical_crossentropy,\n",
    "             optimizer=optimizer,\n",
    "             metrics=['accuracy'])"
   ]
  },
  {
   "cell_type": "markdown",
   "metadata": {
    "colab_type": "text",
    "id": "U83sWOlfIe6O"
   },
   "source": [
    "### 구성된 모델 확인"
   ]
  },
  {
   "cell_type": "code",
   "execution_count": 20,
   "metadata": {
    "colab": {},
    "colab_type": "code",
    "id": "3PhoJx8wphNe"
   },
   "outputs": [
    {
     "name": "stdout",
     "output_type": "stream",
     "text": [
      "Model: \"model\"\n",
      "_________________________________________________________________\n",
      "Layer (type)                 Output Shape              Param #   \n",
      "=================================================================\n",
      "input_1 (InputLayer)         [(None, 8000, 1)]         0         \n",
      "_________________________________________________________________\n",
      "conv1d (Conv1D)              (None, 8000, 64)          640       \n",
      "_________________________________________________________________\n",
      "batch_normalization (BatchNo (None, 8000, 64)          256       \n",
      "_________________________________________________________________\n",
      "activation (Activation)      (None, 8000, 64)          0         \n",
      "_________________________________________________________________\n",
      "conv1d_1 (Conv1D)            (None, 8000, 64)          36928     \n",
      "_________________________________________________________________\n",
      "batch_normalization_1 (Batch (None, 8000, 64)          256       \n",
      "_________________________________________________________________\n",
      "activation_1 (Activation)    (None, 8000, 64)          0         \n",
      "_________________________________________________________________\n",
      "max_pooling1d (MaxPooling1D) (None, 4000, 64)          0         \n",
      "_________________________________________________________________\n",
      "conv1d_2 (Conv1D)            (None, 4000, 128)         73856     \n",
      "_________________________________________________________________\n",
      "batch_normalization_2 (Batch (None, 4000, 128)         512       \n",
      "_________________________________________________________________\n",
      "activation_2 (Activation)    (None, 4000, 128)         0         \n",
      "_________________________________________________________________\n",
      "max_pooling1d_1 (MaxPooling1 (None, 2000, 128)         0         \n",
      "_________________________________________________________________\n",
      "flatten (Flatten)            (None, 256000)            0         \n",
      "_________________________________________________________________\n",
      "dense (Dense)                (None, 128)               32768128  \n",
      "_________________________________________________________________\n",
      "dense_1 (Dense)              (None, 12)                1548      \n",
      "=================================================================\n",
      "Total params: 32,882,124\n",
      "Trainable params: 32,881,612\n",
      "Non-trainable params: 512\n",
      "_________________________________________________________________\n"
     ]
    }
   ],
   "source": [
    "model.summary()"
   ]
  },
  {
   "cell_type": "markdown",
   "metadata": {
    "colab_type": "text",
    "id": "eJMDQimNISBL"
   },
   "source": [
    "### 모델 Callback"
   ]
  },
  {
   "cell_type": "code",
   "execution_count": 21,
   "metadata": {
    "colab": {},
    "colab_type": "code",
    "id": "bLFFX0TYIUWv"
   },
   "outputs": [],
   "source": [
    "cp_callback = tf.keras.callbacks.ModelCheckpoint(checkpoint_dir,\n",
    "                                                 save_weights_only=True,\n",
    "                                                 monitor='val_loss',\n",
    "                                                 mode='auto',\n",
    "                                                 save_best_only=True,\n",
    "                                                 verbose=1)"
   ]
  },
  {
   "cell_type": "code",
   "execution_count": 22,
   "metadata": {
    "colab": {},
    "colab_type": "code",
    "id": "ofRpSFYrLILq"
   },
   "outputs": [],
   "source": [
    "def scheduler(epoch):\n",
    "    if epoch < 10:\n",
    "        return 0.0001\n",
    "    else:\n",
    "        return 0.0001 * tf.math.exp(0.1 * (10 - epoch))\n",
    "\n",
    "lr_callback = tf.keras.callbacks.LearningRateScheduler(scheduler)"
   ]
  },
  {
   "cell_type": "markdown",
   "metadata": {
    "colab_type": "text",
    "id": "wJkpthtZIigi"
   },
   "source": [
    "### 모델 학습"
   ]
  },
  {
   "cell_type": "code",
   "execution_count": 23,
   "metadata": {
    "colab": {},
    "colab_type": "code",
    "id": "KygmTczhphNg"
   },
   "outputs": [
    {
     "name": "stdout",
     "output_type": "stream",
     "text": [
      "Train for 455.58 steps, validate for 50.62 steps\n",
      "Epoch 1/20\n",
      "455/455 [============================>.] - ETA: 0s - loss: 2.3906 - accuracy: 0.1632\n",
      "Epoch 00001: val_loss improved from inf to 2.22837, saving model to ./train_ckpt/wave/exp5\n",
      "456/455 [==============================] - 121s 266ms/step - loss: 2.3900 - accuracy: 0.1633 - val_loss: 2.2284 - val_accuracy: 0.2361\n",
      "Epoch 2/20\n",
      "455/455 [============================>.] - ETA: 0s - loss: 2.0614 - accuracy: 0.2679\n",
      "Epoch 00002: val_loss improved from 2.22837 to 1.93152, saving model to ./train_ckpt/wave/exp5\n",
      "456/455 [==============================] - 119s 261ms/step - loss: 2.0611 - accuracy: 0.2679 - val_loss: 1.9315 - val_accuracy: 0.3000\n",
      "Epoch 3/20\n",
      "455/455 [============================>.] - ETA: 0s - loss: 1.8362 - accuracy: 0.3426\n",
      "Epoch 00003: val_loss improved from 1.93152 to 1.78895, saving model to ./train_ckpt/wave/exp5\n",
      "456/455 [==============================] - 120s 263ms/step - loss: 1.8360 - accuracy: 0.3427 - val_loss: 1.7890 - val_accuracy: 0.3496\n",
      "Epoch 4/20\n",
      "455/455 [============================>.] - ETA: 0s - loss: 1.6614 - accuracy: 0.4010\n",
      "Epoch 00004: val_loss improved from 1.78895 to 1.61312, saving model to ./train_ckpt/wave/exp5\n",
      "456/455 [==============================] - 121s 266ms/step - loss: 1.6612 - accuracy: 0.4012 - val_loss: 1.6131 - val_accuracy: 0.4212\n",
      "Epoch 5/20\n",
      "455/455 [============================>.] - ETA: 0s - loss: 1.5227 - accuracy: 0.4578\n",
      "Epoch 00005: val_loss improved from 1.61312 to 1.51156, saving model to ./train_ckpt/wave/exp5\n",
      "456/455 [==============================] - 122s 267ms/step - loss: 1.5224 - accuracy: 0.4578 - val_loss: 1.5116 - val_accuracy: 0.4757\n",
      "Epoch 6/20\n",
      "455/455 [============================>.] - ETA: 0s - loss: 1.3977 - accuracy: 0.5083\n",
      "Epoch 00006: val_loss did not improve from 1.51156\n",
      "456/455 [==============================] - 121s 266ms/step - loss: 1.3975 - accuracy: 0.5083 - val_loss: 1.5315 - val_accuracy: 0.4953\n",
      "Epoch 7/20\n",
      "455/455 [============================>.] - ETA: 0s - loss: 1.2860 - accuracy: 0.5532\n",
      "Epoch 00007: val_loss improved from 1.51156 to 1.32815, saving model to ./train_ckpt/wave/exp5\n",
      "456/455 [==============================] - 122s 267ms/step - loss: 1.2858 - accuracy: 0.5531 - val_loss: 1.3282 - val_accuracy: 0.5380\n",
      "Epoch 8/20\n",
      "455/455 [============================>.] - ETA: 0s - loss: 1.1755 - accuracy: 0.5955\n",
      "Epoch 00008: val_loss improved from 1.32815 to 1.19873, saving model to ./train_ckpt/wave/exp5\n",
      "456/455 [==============================] - 122s 267ms/step - loss: 1.1752 - accuracy: 0.5955 - val_loss: 1.1987 - val_accuracy: 0.5806\n",
      "Epoch 9/20\n",
      "455/455 [============================>.] - ETA: 0s - loss: 1.0865 - accuracy: 0.6320\n",
      "Epoch 00009: val_loss improved from 1.19873 to 1.07184, saving model to ./train_ckpt/wave/exp5\n",
      "456/455 [==============================] - 122s 267ms/step - loss: 1.0862 - accuracy: 0.6320 - val_loss: 1.0718 - val_accuracy: 0.6359\n",
      "Epoch 10/20\n",
      "455/455 [============================>.] - ETA: 0s - loss: 1.0019 - accuracy: 0.6654\n",
      "Epoch 00010: val_loss improved from 1.07184 to 0.96023, saving model to ./train_ckpt/wave/exp5\n",
      "456/455 [==============================] - 122s 268ms/step - loss: 1.0020 - accuracy: 0.6653 - val_loss: 0.9602 - val_accuracy: 0.6841\n",
      "Epoch 11/20\n",
      "455/455 [============================>.] - ETA: 0s - loss: 0.9093 - accuracy: 0.7002\n",
      "Epoch 00011: val_loss improved from 0.96023 to 0.89558, saving model to ./train_ckpt/wave/exp5\n",
      "456/455 [==============================] - 122s 267ms/step - loss: 0.9093 - accuracy: 0.7002 - val_loss: 0.8956 - val_accuracy: 0.7082\n",
      "Epoch 12/20\n",
      "455/455 [============================>.] - ETA: 0s - loss: 0.8283 - accuracy: 0.7301\n",
      "Epoch 00012: val_loss improved from 0.89558 to 0.83546, saving model to ./train_ckpt/wave/exp5\n",
      "456/455 [==============================] - 122s 266ms/step - loss: 0.8284 - accuracy: 0.7300 - val_loss: 0.8355 - val_accuracy: 0.7233\n",
      "Epoch 13/20\n",
      "455/455 [============================>.] - ETA: 0s - loss: 0.7609 - accuracy: 0.7534\n",
      "Epoch 00013: val_loss improved from 0.83546 to 0.69425, saving model to ./train_ckpt/wave/exp5\n",
      "456/455 [==============================] - 121s 266ms/step - loss: 0.7609 - accuracy: 0.7534 - val_loss: 0.6943 - val_accuracy: 0.7843\n",
      "Epoch 14/20\n",
      "455/455 [============================>.] - ETA: 0s - loss: 0.6749 - accuracy: 0.7858\n",
      "Epoch 00014: val_loss improved from 0.69425 to 0.63506, saving model to ./train_ckpt/wave/exp5\n",
      "456/455 [==============================] - 121s 266ms/step - loss: 0.6750 - accuracy: 0.7858 - val_loss: 0.6351 - val_accuracy: 0.8102\n",
      "Epoch 15/20\n",
      "455/455 [============================>.] - ETA: 0s - loss: 0.5952 - accuracy: 0.8172\n",
      "Epoch 00015: val_loss improved from 0.63506 to 0.56100, saving model to ./train_ckpt/wave/exp5\n",
      "456/455 [==============================] - 121s 266ms/step - loss: 0.5952 - accuracy: 0.8172 - val_loss: 0.5610 - val_accuracy: 0.8416\n",
      "Epoch 16/20\n",
      "455/455 [============================>.] - ETA: 0s - loss: 0.5272 - accuracy: 0.8455\n",
      "Epoch 00016: val_loss improved from 0.56100 to 0.50474, saving model to ./train_ckpt/wave/exp5\n",
      "456/455 [==============================] - 121s 266ms/step - loss: 0.5270 - accuracy: 0.8455 - val_loss: 0.5047 - val_accuracy: 0.8573\n",
      "Epoch 17/20\n",
      "455/455 [============================>.] - ETA: 0s - loss: 0.4765 - accuracy: 0.8638\n",
      "Epoch 00017: val_loss improved from 0.50474 to 0.48368, saving model to ./train_ckpt/wave/exp5\n",
      "456/455 [==============================] - 121s 266ms/step - loss: 0.4762 - accuracy: 0.8638 - val_loss: 0.4837 - val_accuracy: 0.8616\n",
      "Epoch 18/20\n",
      "455/455 [============================>.] - ETA: 0s - loss: 0.4307 - accuracy: 0.8792\n",
      "Epoch 00018: val_loss improved from 0.48368 to 0.42578, saving model to ./train_ckpt/wave/exp5\n",
      "456/455 [==============================] - 121s 266ms/step - loss: 0.4307 - accuracy: 0.8792 - val_loss: 0.4258 - val_accuracy: 0.8841\n",
      "Epoch 19/20\n",
      "455/455 [============================>.] - ETA: 0s - loss: 0.3965 - accuracy: 0.8898\n",
      "Epoch 00019: val_loss improved from 0.42578 to 0.39409, saving model to ./train_ckpt/wave/exp5\n",
      "456/455 [==============================] - 121s 266ms/step - loss: 0.3966 - accuracy: 0.8897 - val_loss: 0.3941 - val_accuracy: 0.8912\n",
      "Epoch 20/20\n",
      "455/455 [============================>.] - ETA: 0s - loss: 0.3668 - accuracy: 0.8996\n",
      "Epoch 00020: val_loss improved from 0.39409 to 0.35129, saving model to ./train_ckpt/wave/exp5\n",
      "456/455 [==============================] - 121s 266ms/step - loss: 0.3668 - accuracy: 0.8996 - val_loss: 0.3513 - val_accuracy: 0.9108\n"
     ]
    }
   ],
   "source": [
    "# using `tf.data.Dataset`\n",
    "history = model.fit(train_dataset,\n",
    "                    epochs=max_epochs,\n",
    "                    steps_per_epoch=train_wav.shape[0]/batch_size,\n",
    "                    validation_data=test_dataset,\n",
    "                    validation_steps=test_wav.shape[0]/batch_size,\n",
    "                    callbacks=[lr_callback,cp_callback]\n",
    "                    )"
   ]
  },
  {
   "cell_type": "code",
   "execution_count": 24,
   "metadata": {
    "colab": {},
    "colab_type": "code",
    "id": "NaLXC0aKphNj"
   },
   "outputs": [
    {
     "data": {
      "image/png": "[encoded data removed]",
      "text/plain": [
       "<Figure size 576x576 with 2 Axes>"
      ]
     },
     "metadata": {
      "needs_background": "light"
     },
     "output_type": "display_data"
    }
   ],
   "source": [
    "acc = history.history['accuracy']\n",
    "val_acc = history.history['val_accuracy']\n",
    "\n",
    "loss=history.history['loss']\n",
    "val_loss=history.history['val_loss']\n",
    "\n",
    "epochs_range = range(max_epochs)\n",
    "\n",
    "plt.figure(figsize=(8, 8))\n",
    "plt.subplot(1, 2, 1)\n",
    "plt.plot(epochs_range, acc, label='Training Accuracy')\n",
    "plt.plot(epochs_range, val_acc, label='Validation Accuracy')\n",
    "plt.legend(loc='lower right')\n",
    "plt.title('Training and Validation Accuracy')\n",
    "\n",
    "plt.subplot(1, 2, 2)\n",
    "plt.plot(epochs_range, loss, label='Training Loss')\n",
    "plt.plot(epochs_range, val_loss, label='Validation Loss')\n",
    "plt.legend(loc='upper right')\n",
    "plt.title('Training and Validation Loss')\n",
    "plt.show()"
   ]
  },
  {
   "cell_type": "markdown",
   "metadata": {
    "colab_type": "text",
    "id": "mGn-bvDej1Wz"
   },
   "source": [
    "## Evaluation\n",
    "* Test dataset을 이용해서 모델의 성능을 평가합니다."
   ]
  },
  {
   "cell_type": "code",
   "execution_count": 28,
   "metadata": {
    "colab": {},
    "colab_type": "code",
    "id": "ZLgZCkiS1SmD"
   },
   "outputs": [
    {
     "data": {
      "text/plain": [
       "<tensorflow.python.training.tracking.util.InitializationOnlyStatus at 0x7f9fdc5525c0>"
      ]
     },
     "execution_count": 28,
     "metadata": {},
     "output_type": "execute_result"
    }
   ],
   "source": [
    "checkpoint = tf.train.Checkpoint(model=model)\n",
    "checkpoint.restore(tf.train.latest_checkpoint(checkpoint_dir))"
   ]
  },
  {
   "cell_type": "code",
   "execution_count": 29,
   "metadata": {},
   "outputs": [
    {
     "data": {
      "text/plain": [
       "<tensorflow.python.training.tracking.util.CheckpointLoadStatus at 0x7fa03d5407f0>"
      ]
     },
     "execution_count": 29,
     "metadata": {},
     "output_type": "execute_result"
    }
   ],
   "source": [
    "model.load_weights(checkpoint_dir)"
   ]
  },
  {
   "cell_type": "code",
   "execution_count": 30,
   "metadata": {
    "colab": {},
    "colab_type": "code",
    "id": "6VonCCKaphNm"
   },
   "outputs": [
    {
     "name": "stdout",
     "output_type": "stream",
     "text": [
      "456/456 [==============================] - 29s 64ms/step - loss: 0.3442 - accuracy: 0.9078\n"
     ]
    }
   ],
   "source": [
    "results = model.evaluate(test_dataset)"
   ]
  },
  {
   "cell_type": "code",
   "execution_count": null,
   "metadata": {
    "colab": {},
    "colab_type": "code",
    "id": "fJ6TU2s36-To"
   },
   "outputs": [],
   "source": []
  }
 ],
 "metadata": {
  "accelerator": "GPU",
  "colab": {
   "collapsed_sections": [],
   "name": "Speech_recognition_Wave.ipynb",
   "provenance": []
  },
  "kernelspec": {
   "display_name": "Environment (conda_tensorflow2_p36)",
   "language": "python",
   "name": "conda_tensorflow2_p36"
  },
  "language_info": {
   "codemirror_mode": {
    "name": "ipython",
    "version": 3
   },
   "file_extension": ".py",
   "mimetype": "text/x-python",
   "name": "python",
   "nbconvert_exporter": "python",
   "pygments_lexer": "ipython3",
   "version": "3.6.10"
  }
 },
 "nbformat": 4,
 "nbformat_minor": 1
}
